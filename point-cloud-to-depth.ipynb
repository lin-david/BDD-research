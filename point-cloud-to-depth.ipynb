{
 "cells": [
  {
   "cell_type": "code",
   "execution_count": 1,
   "metadata": {
    "collapsed": true
   },
   "outputs": [],
   "source": [
    "import numpy as np\n",
    "import pandas as pd\n",
    "import matplotlib.pyplot as plt\n",
    "%matplotlib inline\n",
    "\n",
    "# Debug\n",
    "# %matplotlib notebook\n",
    "# pd.options.display.max_rows = 200"
   ]
  },
  {
   "cell_type": "code",
   "execution_count": 17,
   "metadata": {},
   "outputs": [],
   "source": [
    "df = pd.read_csv(\"depth-map-data/2-wall-corner/1503619131430261850-cloudpoint.csv\", \n",
    "                 names = ['x', 'y', 'z', 'intensity', 'ring', 'rotation', 'revolution'])\n",
    "df['distance'] = np.sqrt(df['x']**2 + df['y']**2 + df['z']**2)\n",
    "\n",
    "# Debug\n",
    "# df.describe()"
   ]
  },
  {
   "cell_type": "code",
   "execution_count": 18,
   "metadata": {
    "collapsed": true
   },
   "outputs": [],
   "source": [
    "df.sort_values(['rotation', 'ring'], inplace = True)\n",
    "df_arr = df.as_matrix()\n",
    "\n",
    "# Debug\n",
    "# df.head(200)\n",
    "# df['rotation'].value_counts().sort_index()\n",
    "# df['revolution'].value_counts().sort_index()"
   ]
  },
  {
   "cell_type": "code",
   "execution_count": 19,
   "metadata": {
    "collapsed": true
   },
   "outputs": [],
   "source": [
    "width = 2088\n",
    "height = 64\n",
    "\n",
    "img = np.zeros((width, height))\n",
    "\n",
    "for i in range(width):\n",
    "    df_rot_slice = df.iloc[height * i : height * (i + 1)].copy()\n",
    "    df_rot_slice_arr = df_rot_slice['distance'].as_matrix()\n",
    "    img[i] = df_rot_slice_arr\n",
    "    \n",
    "img = np.rot90(img)"
   ]
  },
  {
   "cell_type": "code",
   "execution_count": 22,
   "metadata": {},
   "outputs": [
    {
     "data": {
      "image/png": "[encoded data removed]",
      "text/plain": [
       "<matplotlib.figure.Figure at 0x119835470>"
      ]
     },
     "metadata": {},
     "output_type": "display_data"
    }
   ],
   "source": [
    "fig, ax = plt.subplots(figsize=(16, 4))\n",
    "ax.imshow(img, cmap='binary', vmax=50)\n",
    "\n",
    "fig.savefig('depth-map.png', dpi = 300)"
   ]
  },
  {
   "cell_type": "code",
   "execution_count": null,
   "metadata": {
    "collapsed": true
   },
   "outputs": [],
   "source": []
  }
 ],
 "metadata": {
  "kernelspec": {
   "display_name": "Python 3",
   "language": "python",
   "name": "python3"
  },
  "language_info": {
   "codemirror_mode": {
    "name": "ipython",
    "version": 3
   },
   "file_extension": ".py",
   "mimetype": "text/x-python",
   "name": "python",
   "nbconvert_exporter": "python",
   "pygments_lexer": "ipython3",
   "version": "3.6.1"
  }
 },
 "nbformat": 4,
 "nbformat_minor": 2
}
