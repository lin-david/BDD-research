{
 "cells": [
  {
   "cell_type": "markdown",
   "metadata": {},
   "source": [
    "# Open3D Demo and Registration\n",
    "http://open3d.org/"
   ]
  },
  {
   "cell_type": "code",
   "execution_count": 125,
   "metadata": {},
   "outputs": [],
   "source": [
    "from py3d import *\n",
    "import numpy as np\n",
    "import pandas as pd\n",
    "import copy"
   ]
  },
  {
   "cell_type": "markdown",
   "metadata": {},
   "source": [
    "### Point Cloud Visualization"
   ]
  },
  {
   "cell_type": "code",
   "execution_count": 126,
   "metadata": {},
   "outputs": [],
   "source": [
    "ply_file = \"new-data/1503619123211929000-pointcloud.ply\"\n",
    "pcd = read_point_cloud(ply_file)\n",
    "draw_geometries([pcd])"
   ]
  },
  {
   "cell_type": "markdown",
   "metadata": {},
   "source": [
    "### Voxel Downsampling"
   ]
  },
  {
   "cell_type": "code",
   "execution_count": 127,
   "metadata": {},
   "outputs": [
    {
     "name": "stdout",
     "output_type": "stream",
     "text": [
      "Downsample the point cloud with a voxel of 0.25\n"
     ]
    }
   ],
   "source": [
    "print(\"Downsample the point cloud with a voxel of 0.25\")\n",
    "downpcd = voxel_down_sample(pcd, voxel_size = 0.25)\n",
    "draw_geometries([downpcd])"
   ]
  },
  {
   "cell_type": "markdown",
   "metadata": {},
   "source": [
    "### Vertex Normal Estimation\n",
    "Press `n` to see point normals and `-` and `+` to control the normal length"
   ]
  },
  {
   "cell_type": "code",
   "execution_count": 128,
   "metadata": {},
   "outputs": [
    {
     "name": "stdout",
     "output_type": "stream",
     "text": [
      "Recompute the normal of the downsampled point cloud\n",
      "\n"
     ]
    }
   ],
   "source": [
    "print(\"Recompute the normal of the downsampled point cloud\")\n",
    "estimate_normals(downpcd, search_param = KDTreeSearchParamHybrid(\n",
    "    radius = 0.5, max_nn = 30))\n",
    "draw_geometries([downpcd])\n",
    "print(\"\")"
   ]
  },
  {
   "cell_type": "markdown",
   "metadata": {},
   "source": [
    "## Point Cloud Registration"
   ]
  },
  {
   "cell_type": "markdown",
   "metadata": {},
   "source": [
    "### Cleaning Point Cloud Data\n",
    "Removes noise near the lidar machine"
   ]
  },
  {
   "cell_type": "code",
   "execution_count": 129,
   "metadata": {},
   "outputs": [],
   "source": [
    "file_path = \"new-data/\"\n",
    "csv_name_1 = \"1503619123211929083-cloudpoint.csv\"\n",
    "csv_name_2 = \"1503619123412378073-cloudpoint.csv\"\n",
    "\n",
    "df_1 = pd.read_csv(file_path + csv_name_1, \n",
    "                 names = ['x', 'y', 'z', \n",
    "                          'intensity', 'ring', 'rotation', 'revolution'])\n",
    "df_2 = pd.read_csv(file_path + csv_name_2, \n",
    "                 names = ['x', 'y', 'z', \n",
    "                          'intensity', 'ring', 'rotation', 'revolution'])\n",
    "\n",
    "df_1['distance'] = np.sqrt(df_1['x']**2 + df_1['y']**2 + df_1['z']**2)\n",
    "df_2['distance'] = np.sqrt(df_2['x']**2 + df_2['y']**2 + df_2['z']**2)\n",
    "\n",
    "df_1 = df_1[df_1.distance > 2.5]\n",
    "df_2 = df_2[df_2.distance > 2.5]\n",
    "\n",
    "src_arr = df_1[['x', 'y', 'z']].as_matrix()\n",
    "dest_arr = df_2[['x', 'y', 'z']].as_matrix()"
   ]
  },
  {
   "cell_type": "code",
   "execution_count": 130,
   "metadata": {},
   "outputs": [],
   "source": [
    "src_ply_file_name = \"src.ply\"\n",
    "\n",
    "with open(file_path + src_ply_file_name, 'w') as f:\n",
    "    f.write(\"ply\\n\")\n",
    "    f.write(\"format ascii 1.0\\n\")\n",
    "    f.write(\"element vertex {}\\n\".format(src_arr.shape[0]))\n",
    "    f.write(\"property float32 x\\n\")\n",
    "    f.write(\"property float32 y\\n\")\n",
    "    f.write(\"property float32 z\\n\")\n",
    "    f.write(\"end_header\\n\")\n",
    "    \n",
    "    for i in range(src_arr.shape[0]):\n",
    "        f.write(\"{} {} {}\\n\".format(src_arr[i][0], \n",
    "                                    src_arr[i][1], \n",
    "                                    src_arr[i][2]))\n",
    "\n",
    "\n",
    "dest_ply_file_name = \"dest.ply\"\n",
    "\n",
    "with open(file_path + dest_ply_file_name, 'w') as f:\n",
    "    f.write(\"ply\\n\")\n",
    "    f.write(\"format ascii 1.0\\n\")\n",
    "    f.write(\"element vertex {}\\n\".format(dest_arr.shape[0]))\n",
    "    f.write(\"property float32 x\\n\")\n",
    "    f.write(\"property float32 y\\n\")\n",
    "    f.write(\"property float32 z\\n\")\n",
    "    f.write(\"end_header\\n\")\n",
    "    \n",
    "    for i in range(dest_arr.shape[0]):\n",
    "        f.write(\"{} {} {}\\n\".format(dest_arr[i][0], \n",
    "                                    dest_arr[i][1], \n",
    "                                    dest_arr[i][2]))"
   ]
  },
  {
   "cell_type": "code",
   "execution_count": 131,
   "metadata": {},
   "outputs": [],
   "source": [
    "source = read_point_cloud(file_path + \"src.ply\")\n",
    "target = read_point_cloud(file_path + \"dest.ply\")"
   ]
  },
  {
   "cell_type": "markdown",
   "metadata": {},
   "source": [
    "## Registration\n",
    "`fitness` measures the overlapping area (higher is better)  \n",
    "`inlier_rmse` measures the RMSE of all inlier correspondences (lower is better)"
   ]
  },
  {
   "cell_type": "code",
   "execution_count": 132,
   "metadata": {},
   "outputs": [],
   "source": [
    "def draw_registration_result(source, target, transformation):\n",
    "    source_temp = copy.deepcopy(source)\n",
    "    target_temp = copy.deepcopy(target)\n",
    "    source_temp.paint_uniform_color([1, 0.706, 0])\n",
    "    target_temp.paint_uniform_color([0, 0.651, 0.929])\n",
    "    source_temp.transform(transformation)\n",
    "    draw_geometries([source_temp, target_temp])"
   ]
  },
  {
   "cell_type": "markdown",
   "metadata": {},
   "source": [
    "### Initial Alignment"
   ]
  },
  {
   "cell_type": "code",
   "execution_count": 133,
   "metadata": {},
   "outputs": [],
   "source": [
    "threshold = 1\n",
    "trans_init = np.asarray([[1.0, 0.0, 0.0, 0.0],\n",
    "                        [0.0, 1.0, 0.0, 0.0],\n",
    "                        [0.0, 0.0, 1.0, 0.0],\n",
    "                        [0.0, 0.0, 0.0, 1.0]])"
   ]
  },
  {
   "cell_type": "code",
   "execution_count": 134,
   "metadata": {},
   "outputs": [
    {
     "name": "stdout",
     "output_type": "stream",
     "text": [
      "Initial alignment\n",
      "RegistrationResult with fitness = 0.990676, inlier_rmse = 0.276300, and correspondence_set size of 117940\n",
      "Access transformation to get result.\n"
     ]
    }
   ],
   "source": [
    "print(\"Initial alignment\")\n",
    "evaluation = evaluate_registration(source, target, \n",
    "                                   threshold, trans_init)\n",
    "print(evaluation)"
   ]
  },
  {
   "cell_type": "code",
   "execution_count": 135,
   "metadata": {},
   "outputs": [],
   "source": [
    "draw_registration_result(source, target, trans_init)"
   ]
  },
  {
   "cell_type": "markdown",
   "metadata": {},
   "source": [
    "### Point-to-Point ICP"
   ]
  },
  {
   "cell_type": "code",
   "execution_count": 136,
   "metadata": {},
   "outputs": [
    {
     "name": "stdout",
     "output_type": "stream",
     "text": [
      "Apply point-to-point ICP\n",
      "RegistrationResult with fitness = 0.994759, inlier_rmse = 0.153341, and correspondence_set size of 118426\n",
      "Access transformation to get result.\n",
      "Transformation is:\n",
      "[[  9.99999557e-01  -4.03438603e-04  -8.50647633e-04  -5.78615347e-01]\n",
      " [  4.03627829e-04   9.99999894e-01   2.22289364e-04   5.15516929e-02]\n",
      " [  8.50557863e-04  -2.22632611e-04   9.99999613e-01   2.55775331e-03]\n",
      " [  0.00000000e+00   0.00000000e+00   0.00000000e+00   1.00000000e+00]]\n",
      "\n"
     ]
    }
   ],
   "source": [
    "print(\"Apply point-to-point ICP\")\n",
    "reg_p2p = registration_icp(source, target, threshold, trans_init,\n",
    "        TransformationEstimationPointToPoint(),\n",
    "        ICPConvergenceCriteria(max_iteration = 100))\n",
    "print(reg_p2p)\n",
    "print(\"Transformation is:\")\n",
    "print(reg_p2p.transformation)\n",
    "print(\"\")"
   ]
  },
  {
   "cell_type": "code",
   "execution_count": 137,
   "metadata": {},
   "outputs": [],
   "source": [
    "draw_registration_result(source, target, reg_p2p.transformation)"
   ]
  },
  {
   "cell_type": "markdown",
   "metadata": {},
   "source": [
    "### Point-to-Plane ICP"
   ]
  },
  {
   "cell_type": "code",
   "execution_count": 138,
   "metadata": {},
   "outputs": [
    {
     "name": "stdout",
     "output_type": "stream",
     "text": [
      "Compute the normal\n",
      "\n"
     ]
    }
   ],
   "source": [
    "print(\"Compute the normal\")\n",
    "estimate_normals(target, search_param = KDTreeSearchParamHybrid(\n",
    "    radius = .5, max_nn = 30))\n",
    "# draw_geometries([source])\n",
    "print(\"\")"
   ]
  },
  {
   "cell_type": "code",
   "execution_count": 139,
   "metadata": {
    "scrolled": true
   },
   "outputs": [
    {
     "name": "stdout",
     "output_type": "stream",
     "text": [
      "Apply point-to-plane ICP\n",
      "RegistrationResult with fitness = 0.995052, inlier_rmse = 0.161588, and correspondence_set size of 118461\n",
      "Access transformation to get result.\n",
      "Transformation is:\n",
      "[[  9.99999096e-01   1.95794685e-04  -1.33007300e-03  -6.86554470e-01]\n",
      " [ -1.95450538e-04   9.99999947e-01   2.58868243e-04   3.69696655e-03]\n",
      " [  1.33012362e-03  -2.58608045e-04   9.99999082e-01   4.17568269e-03]\n",
      " [  0.00000000e+00   0.00000000e+00   0.00000000e+00   1.00000000e+00]]\n",
      "\n"
     ]
    }
   ],
   "source": [
    "print(\"Apply point-to-plane ICP\")\n",
    "reg_p2l = registration_icp(source, target, threshold, trans_init,\n",
    "        TransformationEstimationPointToPlane(),\n",
    "        ICPConvergenceCriteria(max_iteration = 100))\n",
    "print(reg_p2l)\n",
    "print(\"Transformation is:\")\n",
    "print(reg_p2l.transformation)\n",
    "print(\"\")"
   ]
  },
  {
   "cell_type": "code",
   "execution_count": 140,
   "metadata": {},
   "outputs": [],
   "source": [
    "draw_registration_result(source, target, reg_p2l.transformation)"
   ]
  },
  {
   "cell_type": "code",
   "execution_count": null,
   "metadata": {},
   "outputs": [],
   "source": []
  }
 ],
 "metadata": {
  "kernelspec": {
   "display_name": "Python 3",
   "language": "python",
   "name": "python3"
  },
  "language_info": {
   "codemirror_mode": {
    "name": "ipython",
    "version": 3
   },
   "file_extension": ".py",
   "mimetype": "text/x-python",
   "name": "python",
   "nbconvert_exporter": "python",
   "pygments_lexer": "ipython3",
   "version": "3.6.4"
  }
 },
 "nbformat": 4,
 "nbformat_minor": 2
}
