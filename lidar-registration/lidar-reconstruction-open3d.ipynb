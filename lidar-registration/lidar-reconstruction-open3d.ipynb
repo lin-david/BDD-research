{
 "cells": [
  {
   "cell_type": "markdown",
   "metadata": {},
   "source": [
    "# Lidar Reconstruction using Open3D\n",
    "Library used: http://open3d.org/"
   ]
  },
  {
   "cell_type": "markdown",
   "metadata": {},
   "source": [
    "## 1. Setup\n",
    "Open3D installation instructions: http://open3d.org/docs/getting_started.html"
   ]
  },
  {
   "cell_type": "code",
   "execution_count": null,
   "metadata": {},
   "outputs": [],
   "source": [
    "from py3d import *\n",
    "import numpy as np\n",
    "import pandas as pd\n",
    "import copy\n",
    "import glob"
   ]
  },
  {
   "cell_type": "markdown",
   "metadata": {},
   "source": [
    "### Importing Data\n",
    "Imports all .csv data files in `path`"
   ]
  },
  {
   "cell_type": "code",
   "execution_count": 2,
   "metadata": {},
   "outputs": [],
   "source": [
    "path = \"reconstruction-data/\"\n",
    "all_files = sorted(glob.glob(path + \"/*.csv\"))"
   ]
  },
  {
   "cell_type": "markdown",
   "metadata": {},
   "source": [
    "## 2. Preprocessing Point Cloud Data \n",
    "### Cleaning Data\n",
    "Remove \"reflection\" noise near the lidar machine  \n",
    "Add cleaned data to list as `py3d.PointCloud` objects"
   ]
  },
  {
   "cell_type": "code",
   "execution_count": 3,
   "metadata": {},
   "outputs": [],
   "source": [
    "cleaned_point_clouds = []\n",
    "point_cloud_arr = []\n",
    "\n",
    "for csv_file in all_files:\n",
    "    df = pd.read_csv(csv_file, \n",
    "                 names = ['x', 'y', 'z', \n",
    "                          'intensity', 'ring', 'rotation', 'revolution'])\n",
    "    df['distance'] = np.sqrt(df['x']**2 + df['y']**2 + df['z']**2)\n",
    "    df = df[df.distance > 2.5]\n",
    "    point_cloud_matrix = df[['x', 'y', 'z']].as_matrix()\n",
    "    \n",
    "    cleaned_point_clouds.append(point_cloud_matrix)\n",
    "    \n",
    "    pcd = PointCloud()\n",
    "    pcd.points = Vector3dVector(point_cloud_matrix)\n",
    "    \n",
    "    point_cloud_arr.append(voxel_down_sample(pcd, voxel_size = 0.20)) "
   ]
  },
  {
   "cell_type": "markdown",
   "metadata": {},
   "source": [
    "## 3. Registration and Reconstruction\n",
    "### Defining Utility Functions"
   ]
  },
  {
   "cell_type": "code",
   "execution_count": 4,
   "metadata": {},
   "outputs": [],
   "source": [
    "def draw_registration_result(source, target, transformation):\n",
    "    \"\"\"\n",
    "    Draws the source point cloud with transformation applied to it (orange)\n",
    "    and the target point cloud (blue).\n",
    "    \n",
    "    Args:\n",
    "    source: py3d.PointCloud object\n",
    "    target: py3d.PointCloud object\n",
    "    transformation: 4x4 affine transformation matrix to be applied to source\n",
    "    \"\"\"\n",
    "    \n",
    "    source_temp = copy.deepcopy(source)\n",
    "    target_temp = copy.deepcopy(target)\n",
    "    source_temp.paint_uniform_color([1, 0.706, 0])\n",
    "    target_temp.paint_uniform_color([0, 0.651, 0.929])\n",
    "    source_temp.transform(transformation)\n",
    "    draw_geometries([source_temp, target_temp])"
   ]
  },
  {
   "cell_type": "code",
   "execution_count": 5,
   "metadata": {},
   "outputs": [],
   "source": [
    "def eval_init_align(source, target, threshold=1,\n",
    "                    trans_init=np.asarray([[1.0, 0.0, 0.0, 0.0],\n",
    "                                           [0.0, 1.0, 0.0, 0.0],\n",
    "                                           [0.0, 0.0, 1.0, 0.0],\n",
    "                                           [0.0, 0.0, 0.0, 1.0]])):\n",
    "    \"\"\"\n",
    "    Prints evaluation of an initial alignment by the identity transformation matrix.\n",
    "    \n",
    "    Args:\n",
    "    source: py3d.PointCloud object\n",
    "    target: py3d.PointCloud object\n",
    "    threshold: distance threshold\n",
    "    trans_init: initial transformation matrix\n",
    "    \"\"\"\n",
    "    print(\"Initial Alignment\")\n",
    "    evaluation = evaluate_registration(source, target, \n",
    "                                       threshold, trans_init)\n",
    "    print(evaluation)"
   ]
  },
  {
   "cell_type": "code",
   "execution_count": 6,
   "metadata": {},
   "outputs": [],
   "source": [
    "def icp_p2l(source, target, radius=.5, max_nn=100, threshold = 1.0,\n",
    "            trans_init=np.asarray([[1.0, 0.0, 0.0, 0.0],\n",
    "                                   [0.0, 1.0, 0.0, 0.0],\n",
    "                                   [0.0, 0.0, 1.0, 0.0],\n",
    "                                   [0.0, 0.0, 0.0, 1.0]]), max_iter=200):\n",
    "    \"\"\"\n",
    "    Applies point-to-plane iterative closest point (ICP) algorithm\n",
    "    \n",
    "    Args:\n",
    "    source: py3d.PointCloud object\n",
    "    target: py3d.PointCloud object\n",
    "    radius: KD Tree search radius\n",
    "    max_nn: KD Tree maximum nearest neighbors\n",
    "    threshold: distance threshold\n",
    "    trans_init: initial transformation matrix\n",
    "    max_iter: ICP convergence maximum iterations\n",
    "    \n",
    "    Returns:\n",
    "    4x4 affine transformation matrix from ICP\n",
    "    \"\"\"\n",
    "#     print(\"Compute the normal\")\n",
    "    estimate_normals(target, search_param = KDTreeSearchParamHybrid(\n",
    "        radius, max_nn))\n",
    "#     print(\"Apply point-to-plane ICP\")\n",
    "    reg_p2l = registration_icp(source, target, threshold, trans_init,\n",
    "                               TransformationEstimationPointToPlane(),\n",
    "                               ICPConvergenceCriteria(max_iter))\n",
    "#     print(reg_p2l)\n",
    "#     print(\"Transformation is:\")\n",
    "#     print(reg_p2l.transformation)\n",
    "#     print(\"\")\n",
    "    return reg_p2l.transformation"
   ]
  },
  {
   "cell_type": "markdown",
   "metadata": {},
   "source": [
    "### Initial Alignment\n",
    "Show baseline `fitness` and `inlier_rmse` for initial alignment between \n",
    "adjacent point clouds assuming that there is no movement\n",
    "\n",
    "`fitness` measures the overlapping area (higher is better)  \n",
    "`inlier_rmse` measures the RMSE of all inlier correspondences (lower is better)"
   ]
  },
  {
   "cell_type": "code",
   "execution_count": null,
   "metadata": {},
   "outputs": [],
   "source": [
    "for i in range(len(point_cloud_arr)-1):\n",
    "    print(\"Initial alignment between point cloud \" + str(i) + \" with point cloud \" + str(i+1))\n",
    "    eval_init_align(point_cloud_arr[i], point_cloud_arr[i+1])"
   ]
  },
  {
   "cell_type": "markdown",
   "metadata": {},
   "source": [
    "### Calculate Adjacent Transformations using Point-to-Plane ICP\n",
    "Create array of transformations that align every adjacent point cloud"
   ]
  },
  {
   "cell_type": "code",
   "execution_count": 7,
   "metadata": {},
   "outputs": [],
   "source": [
    "transformation_arr = []\n",
    "\n",
    "for i in range(len(point_cloud_arr)-1):\n",
    "#     print(\"Aligning point cloud \" + str(i) + \" with point cloud \" + str(i+1))\n",
    "    transformation = icp_p2l(point_cloud_arr[i], point_cloud_arr[i+1])\n",
    "    transformation_arr.append(transformation)"
   ]
  },
  {
   "cell_type": "markdown",
   "metadata": {},
   "source": [
    "### Composing Multiple Transformations for Reconstruction\n",
    "Apply composed transformations on every point cloud to align them to the target"
   ]
  },
  {
   "cell_type": "code",
   "execution_count": 8,
   "metadata": {},
   "outputs": [],
   "source": [
    "start_index = 0\n",
    "target_index = len(point_cloud_arr) - 1\n",
    "final_pc_arr = [None] * (target_index - start_index + 1)\n",
    "\n",
    "for j in range(start_index, target_index):\n",
    "#     print(\"Aligning point cloud \" + str(j) + \" to target point cloud \" + str(target_index))\n",
    "    pc_extracted = np.ones((4, cleaned_point_clouds[j].shape[0]))\n",
    "    pc_extracted[0:3,:] = np.copy(cleaned_point_clouds[j].T)\n",
    "    final_pc_arr[j] = pc_extracted\n",
    "\n",
    "    composed_transformation = np.eye(4,4)\n",
    "    for i in range(j, target_index):\n",
    "        composed_transformation = np.dot(transformation_arr[i], composed_transformation)\n",
    "        \n",
    "    final_pc_arr[j] = np.dot(composed_transformation, final_pc_arr[j])[0:3,:]\n",
    "\n",
    "pc_extracted_target = np.ones((4, cleaned_point_clouds[target_index].shape[0]))\n",
    "pc_extracted_target[0:3,:] = np.copy(cleaned_point_clouds[target_index].T)\n",
    "\n",
    "final_pc_arr[target_index] = pc_extracted_target[0:3,:]\n",
    "final_reconstruction = np.hstack(final_pc_arr).T"
   ]
  },
  {
   "cell_type": "markdown",
   "metadata": {},
   "source": [
    "## 4. Downsample and Visualize\n",
    "Convert final point cloud to `py3d.PointCloud` objects in order to downsample and visualize"
   ]
  },
  {
   "cell_type": "code",
   "execution_count": 9,
   "metadata": {},
   "outputs": [
    {
     "name": "stdout",
     "output_type": "stream",
     "text": [
      "Downsample the point cloud with a voxel of 0.35\n"
     ]
    },
    {
     "data": {
      "text/plain": [
       "PointCloud with 1270716 points."
      ]
     },
     "execution_count": 9,
     "metadata": {},
     "output_type": "execute_result"
    }
   ],
   "source": [
    "pcd = PointCloud()\n",
    "pcd.points = Vector3dVector(final_reconstruction)\n",
    "print(\"Downsample the point cloud with a voxel of 0.35\")\n",
    "downpcd = voxel_down_sample(pcd, voxel_size = 0.35)\n",
    "downpcd"
   ]
  },
  {
   "cell_type": "markdown",
   "metadata": {},
   "source": [
    "### Visualize Point Cloud"
   ]
  },
  {
   "cell_type": "code",
   "execution_count": 11,
   "metadata": {},
   "outputs": [],
   "source": [
    "draw_geometries([downpcd])"
   ]
  },
  {
   "cell_type": "markdown",
   "metadata": {},
   "source": [
    "### Save Point Cloud to .ply\n",
    "For exporting or viewing in other programs like Meshlab"
   ]
  },
  {
   "cell_type": "code",
   "execution_count": null,
   "metadata": {},
   "outputs": [],
   "source": [
    "# SAVE ORIGINAL POINT CLOUD\n",
    "\n",
    "dest_ply_file_name = \"final.ply\"\n",
    "\n",
    "with open(path + dest_ply_file_name, 'w') as f:\n",
    "    f.write(\"ply\\n\")\n",
    "    f.write(\"format ascii 1.0\\n\")\n",
    "    f.write(\"element vertex {}\\n\".format(final_reconstruction.shape[0]))\n",
    "    f.write(\"property float32 x\\n\")\n",
    "    f.write(\"property float32 y\\n\")\n",
    "    f.write(\"property float32 z\\n\")\n",
    "    f.write(\"end_header\\n\")\n",
    "    \n",
    "    for i in range(final_reconstruction.shape[0]):\n",
    "        f.write(\"{} {} {}\\n\".format(final_reconstruction[i][0], \n",
    "                                    final_reconstruction[i][1], \n",
    "                                    final_reconstruction[i][2]))\n",
    "\n",
    "pcd = read_point_cloud(path + \"final.ply\")"
   ]
  },
  {
   "cell_type": "code",
   "execution_count": 10,
   "metadata": {},
   "outputs": [],
   "source": [
    "# SAVE DOWNSAMPLED POINT CLOUD\n",
    "\n",
    "final_downsampled = np.asarray(downpcd.points)\n",
    "\n",
    "dest_ply_file_name = \"final-downsampled.ply\"\n",
    "\n",
    "with open(path + dest_ply_file_name, 'w') as f:\n",
    "    f.write(\"ply\\n\")\n",
    "    f.write(\"format ascii 1.0\\n\")\n",
    "    f.write(\"element vertex {}\\n\".format(final_downsampled.shape[0]))\n",
    "    f.write(\"property float32 x\\n\")\n",
    "    f.write(\"property float32 y\\n\")\n",
    "    f.write(\"property float32 z\\n\")\n",
    "    f.write(\"end_header\\n\")\n",
    "    \n",
    "    for i in range(final_downsampled.shape[0]):\n",
    "        f.write(\"{} {} {}\\n\".format(final_downsampled[i][0], \n",
    "                                    final_downsampled[i][1], \n",
    "                                    final_downsampled[i][2]))"
   ]
  },
  {
   "cell_type": "code",
   "execution_count": null,
   "metadata": {},
   "outputs": [],
   "source": []
  }
 ],
 "metadata": {
  "kernelspec": {
   "display_name": "Python 3",
   "language": "python",
   "name": "python3"
  },
  "language_info": {
   "codemirror_mode": {
    "name": "ipython",
    "version": 3
   },
   "file_extension": ".py",
   "mimetype": "text/x-python",
   "name": "python",
   "nbconvert_exporter": "python",
   "pygments_lexer": "ipython3",
   "version": "3.6.4"
  }
 },
 "nbformat": 4,
 "nbformat_minor": 2
}
